{
 "cells": [
  {
   "cell_type": "code",
   "execution_count": 1,
   "id": "f0a5cad1-fd61-41c9-b6a9-a4da76b04da1",
   "metadata": {},
   "outputs": [
    {
     "name": "stdout",
     "output_type": "stream",
     "text": [
      "🦥 Unsloth: Will patch your computer to enable 2x faster free finetuning.\n"
     ]
    }
   ],
   "source": [
    "import json\n",
    "import sys\n",
    "import torch\n",
    "import os\n",
    "import pickle, gzip\n",
    "import json\n",
    "import pandas as pd\n",
    "import matplotlib.pyplot as plt\n",
    "# !pip install --upgrade orjson\n",
    "import orjson\n",
    "sys.path.insert(0, '/home/sulcan/Documents/ipac-logbook/code/')\n",
    "from mmd import *\n",
    "from glob import glob\n",
    "from tqdm.notebook import tqdm\n",
    "from pprint import pprint\n",
    "# from trl import SFTConfig, SFTTrainer\n",
    "from trl import SFTTrainer\n",
    "from transformers import TrainingArguments\n",
    "from unsloth import is_bfloat16_supported\n",
    "from transformers import TrainingArguments, Trainer\n",
    "from transformers import DataCollatorForLanguageModeling\n",
    "from transformers import AutoModelForCausalLM, AutoTokenizer\n",
    "from transformers import BitsAndBytesConfig\n",
    "from transformers import TextStreamer\n",
    "\n",
    "from unsloth import FastLanguageModel\n",
    "from datasets import Dataset, load_dataset\n",
    "from peft import LoraConfig, get_peft_model, prepare_model_for_kbit_training\n",
    "import numpy as np\n",
    "\n",
    "base_model_id = \"unsloth/llama-3-8b-Instruct-bnb-4bit\"\n",
    "model_id = base_model_id\n",
    "device = torch.device('cuda:0')\n",
    "gd = lambda x,i : x[list(x.keys())[i]]\n",
    "data_folder = '/home/sulcan/Documents/chatqcd/data/'"
   ]
  },
  {
   "cell_type": "code",
   "execution_count": 2,
   "id": "f49b3c34",
   "metadata": {},
   "outputs": [],
   "source": [
    "# model_id = '/home/sulcan/Documents/chatqcd/models/results/checkpoint-20000/'\n",
    "model_id = '/home/sulcan/Documents/chatqcd/models/results/checkpoint-40000/'\n",
    "# model_id = '/home/sulcan/Documents/chatqcd/models/results/checkpoint-45000/'"
   ]
  },
  {
   "cell_type": "markdown",
   "id": "e7ae2c04-ccf6-466e-bd2f-bded74eeaea0",
   "metadata": {},
   "source": [
    "### Loading model"
   ]
  },
  {
   "cell_type": "code",
   "execution_count": 3,
   "id": "538de6c5-7fc9-48a5-bcdd-60597d4374b2",
   "metadata": {},
   "outputs": [
    {
     "name": "stdout",
     "output_type": "stream",
     "text": [
      "==((====))==  Unsloth 2024.8: Fast Llama patching. Transformers = 4.44.2.\n",
      "   \\\\   /|    GPU: Tesla V100S-PCIE-32GB. Max memory: 31.733 GB. Platform = Linux.\n",
      "O^O/ \\_/ \\    Pytorch: 2.4.0+cu121. CUDA = 7.0. CUDA Toolkit = 12.1.\n",
      "\\        /    Bfloat16 = FALSE. FA [Xformers = 0.0.27.post2. FA2 = False]\n",
      " \"-____-\"     Free Apache license: http://github.com/unslothai/unsloth\n"
     ]
    },
    {
     "name": "stderr",
     "output_type": "stream",
     "text": [
      "Unsloth 2024.8 patched 32 layers with 32 QKV layers, 32 O layers and 32 MLP layers.\n"
     ]
    }
   ],
   "source": [
    "model, tokenizer = FastLanguageModel.from_pretrained(model_name=model_id, dtype = None, load_in_4bit=True)"
   ]
  },
  {
   "cell_type": "code",
   "execution_count": 4,
   "id": "684ce5f9-1789-4d02-aac8-2a6b4180fc7d",
   "metadata": {},
   "outputs": [
    {
     "name": "stdout",
     "output_type": "stream",
     "text": [
      "<|begin_of_text|><|begin_of_text|><|start_header_id|>system<|end_header_id|>\n",
      "\n",
      "Make the answer as short as possible.<|eot_id|><|start_header_id|>user<|end_header_id|>\n",
      "\n",
      "Make the answer as short as possible.. What's the QCD vacuum's θ parameter "
     ]
    },
    {
     "name": "stderr",
     "output_type": "stream",
     "text": [
      "huggingface/tokenizers: The current process just got forked, after parallelism has already been used. Disabling parallelism to avoid deadlocks...\n",
      "To disable this warning, you can either:\n",
      "\t- Avoid using `tokenizers` before the fork if possible\n",
      "\t- Explicitly set the environment variable TOKENIZERS_PARALLELISM=(true | false)\n",
      "huggingface/tokenizers: The current process just got forked, after parallelism has already been used. Disabling parallelism to avoid deadlocks...\n",
      "To disable this warning, you can either:\n",
      "\t- Avoid using `tokenizers` before the fork if possible\n",
      "\t- Explicitly set the environment variable TOKENIZERS_PARALLELISM=(true | false)\n"
     ]
    },
    {
     "name": "stdout",
     "output_type": "stream",
     "text": [
      "value?<|eot_id|><|start_header_id|>assistant<|end_header_id|>\n",
      "\n",
      "The QCD vacuum's θ parameter is zero.<|eot_id|>\n"
     ]
    }
   ],
   "source": [
    "FastLanguageModel.for_inference(model) # Enable native 2x faster inference\n",
    "# q = \"Where is DESY ALPSII experiment? Which city is it? Is it in USA?\"\n",
    "# q = \"What are current achievements of DESY ALPSII?\"\n",
    "# q = \"Give me list of research institutes that research about axion and dark matter.\"\n",
    "# q = \"Give me an exact value of \\[alpha_s]\\ and accuracy from ALICE\"\n",
    "# q = \"How many combinations of gluon colours does exist?\"\n",
    "# q = \"What is the most recent PDG value of the strong coupling?\"\n",
    "# q = \"How would you prove the existence of dark matter with axion?\"\n",
    "# q = \"What is Primakoff effect and how does it fit to the problem of axion?\"\n",
    "# q = \"What is TMDlib?\"\n",
    "# q = \"When was HERA decomissioned?\"\n",
    "# q = \"What was the PDG value of the strong coupling alpha_s in 2010?\"\n",
    "# q = \"Which factorization scale was chosen for the QCD interpretation of the measurement of inclusive jet cross section at 13 TeV by the CMS Collaboration?\"\n",
    "# q = \"What are possible choices of factorization scale in QCD interpretation of inclusive jet cross section measurements at CMS and ATLAS?\"\n",
    "# q = \"Give me the references of inclusive jet cross section measurements by CMS and ATLAS.\"\n",
    "# q = \"Up to which energy scale can one use tau hadronic spectral functions to determine the strong coupling constant? Can you explain why?\"\n",
    "# q = \"How many gluons exist?\"\n",
    "\n",
    "# q = 'What causes color confinement in QCD?'\n",
    "# q = 'How does the QCD coupling constant change with energy scale?'\n",
    "# q = 'What is a glueball in QCD?'\n",
    "# q = 'Why is QCD challenging to solve in the low-energy regime?'\n",
    "q = \"What's the QCD vacuum's θ parameter value?\"\n",
    "# q = \"What's the beta function's leading coefficient in QCD?\"\n",
    "\n",
    "\n",
    "pa = 'Make the answer as short as possible.'\n",
    "# pa = \"Make the answer as detailed as possible\"\n",
    "q = f'{pa}. {q}'\n",
    "\n",
    "q = tokenizer.apply_chat_template([\n",
    "    {'role' : 'system', 'content' : pa},\n",
    "    {'role' : 'user', 'content' : q}], tokenize= False)\n",
    "\n",
    "inputs = tokenizer(q, return_tensors = \"pt\")\n",
    "text_streamer = TextStreamer(tokenizer)\n",
    "_ = model.generate(**inputs, streamer = text_streamer, max_new_tokens = 256, temperature = 0.5)"
   ]
  },
  {
   "cell_type": "markdown",
   "id": "f405dfef-0f39-48cd-9a7f-2f52dce366cb",
   "metadata": {},
   "source": [
    "## Likelihood of output"
   ]
  },
  {
   "cell_type": "code",
   "execution_count": 22,
   "id": "8fd8cd61-a9ef-49eb-9009-d10f81a6628d",
   "metadata": {},
   "outputs": [
    {
     "data": {
      "image/png": "[encoded data removed]",
      "text/plain": [
       "<Figure size 1440x216 with 1 Axes>"
      ]
     },
     "metadata": {
      "needs_background": "light"
     },
     "output_type": "display_data"
    },
    {
     "data": {
      "image/png": "[encoded data removed]",
      "text/plain": [
       "<Figure size 1440x216 with 1 Axes>"
      ]
     },
     "metadata": {
      "needs_background": "light"
     },
     "output_type": "display_data"
    },
    {
     "name": "stdout",
     "output_type": "stream",
     "text": [
      "[{'logit': 2.224609375, 'token': 'In'},\n",
      " {'logit': 5.89453125, 'token': ' Q'},\n",
      " {'logit': 6.24609375, 'token': 'CD'},\n",
      " {'logit': 1.9814453125, 'token': ','},\n",
      " {'logit': 3.419921875, 'token': ' qu'},\n",
      " {'logit': 0.00885772705078125, 'token': 'arks'},\n",
      " {'logit': 8.828125, 'token': ' interact'},\n",
      " {'logit': 8.90625, 'token': ' via'},\n",
      " {'logit': 9.1484375, 'token': ' the'},\n",
      " {'logit': 7.17578125, 'token': ' exchange'},\n",
      " {'logit': 9.5859375, 'token': ' of'},\n",
      " {'logit': 10.1328125, 'token': ' glu'},\n",
      " {'logit': 4.140625, 'token': 'ons'},\n",
      " {'logit': 4.6953125, 'token': ','},\n",
      " {'logit': 8.2421875, 'token': ' which'},\n",
      " {'logit': 5.78125, 'token': ' carry'},\n",
      " {'logit': 10.7265625, 'token': ' color'},\n",
      " {'logit': 10.9453125, 'token': ' charge'},\n",
      " {'logit': -3.0390625, 'token': '.'}]\n",
      "[{'logit': 2.224609375, 'token': 'In'},\n",
      " {'logit': 5.89453125, 'token': ' Q'},\n",
      " {'logit': 6.24609375, 'token': 'CD'},\n",
      " {'logit': 1.9814453125, 'token': ','},\n",
      " {'logit': 3.419921875, 'token': ' qu'},\n",
      " {'logit': 0.00885772705078125, 'token': 'arks'},\n",
      " {'logit': 8.828125, 'token': ' interact'},\n",
      " {'logit': 8.90625, 'token': ' via'},\n",
      " {'logit': 9.1484375, 'token': ' the'},\n",
      " {'logit': 7.17578125, 'token': ' exchange'},\n",
      " {'logit': 9.5859375, 'token': ' of'},\n",
      " {'logit': 10.1328125, 'token': ' glu'},\n",
      " {'logit': 4.140625, 'token': 'ons'},\n",
      " {'logit': 4.6953125, 'token': ','},\n",
      " {'logit': 8.2421875, 'token': ' which'},\n",
      " {'logit': 5.78125, 'token': ' carry'},\n",
      " {'logit': 8.203125, 'token': ' mass'},\n",
      " {'logit': 8.4453125, 'token': ' charge'},\n",
      " {'logit': -2.376953125, 'token': '.'}]\n"
     ]
    }
   ],
   "source": [
    "def get_logits(q):\n",
    "    inputs = tokenizer(q, return_tensors = \"pt\")\n",
    "    outputs = model(**inputs)\n",
    "    logits = outputs.logits\n",
    "\n",
    "    seq_logits = []\n",
    "    for i in range(1,inputs['input_ids'].numel()):\n",
    "        pos = inputs['input_ids'][0,i]\n",
    "        token = tokenizer.decode([pos])\n",
    "        logits_ = logits[0,i,pos].item()\n",
    "        seq_logits.append({'token' : token, 'logit' : logits_})\n",
    "    return seq_logits\n",
    "\n",
    "plt.rcParams[\"figure.figsize\"] = (20,3)\n",
    "# q = \"ALPSII is at DESY.\"\n",
    "# q = \"Primakoff effect is used for axions.\"\n",
    "q = \"How many gluons exist? 8\"\n",
    "q = 'In QCD, quarks interact via the exchange of gluons, which carry color charge.'\n",
    "logits1 = get_logits(q)\n",
    "# q = \"ALPSII is at CERN.\"\n",
    "# q = \"Primakoff effect is used for bosons.\"\n",
    "q = \"How many gluons exist? 9\"\n",
    "q = 'In QCD, quarks interact via the exchange of gluons, which carry mass charge.'\n",
    "logits2 = get_logits(q)\n",
    "\n",
    "logit1_max = max([l['logit'] for l in logits1])\n",
    "logit2_max = max([l['logit'] for l in logits2])\n",
    "both_max = max([logit1_max, logit2_max])\n",
    "\n",
    "\n",
    "plt.plot([l['token'] + f'_{i}' for i,l in enumerate(logits1)], [l['logit'] for l in logits1],'r-')\n",
    "plt.title(str(np.nanmean(np.array([l['logit'] for l in logits1]))))\n",
    "# plt.ylim([0,both_max])\n",
    "plt.xticks(rotation = 90, fontsize = 16)\n",
    "plt.show()\n",
    "\n",
    "plt.plot([l['token'] + f'_{i}' for i,l in enumerate(logits2)], [l['logit'] for l in logits2],'b-')\n",
    "plt.title(str(np.nanmean(np.array([l['logit'] for l in logits2]))))\n",
    "# plt.ylim([0,both_max])\n",
    "plt.xticks(rotation = 90, fontsize = 16)\n",
    "plt.show()\n",
    "\n",
    "pprint(logits1)\n",
    "pprint(logits2)"
   ]
  },
  {
   "cell_type": "code",
   "execution_count": 9,
   "id": "9e88626a-d2b3-4758-8401-5ac891a76ae3",
   "metadata": {},
   "outputs": [
    {
     "name": "stdout",
     "output_type": "stream",
     "text": [
      "[{'logit': 2.234375, 'token': 'In'},\n",
      " {'logit': 9.2421875, 'token': ' Quantum'},\n",
      " {'logit': 9.3828125, 'token': ' Chrom'},\n",
      " {'logit': 6.046875, 'token': 'odynamics'},\n",
      " {'logit': 1.8828125, 'token': ' ('},\n",
      " {'logit': 10.5625, 'token': 'Q'},\n",
      " {'logit': 8.1015625, 'token': 'CD'},\n",
      " {'logit': 0.75634765625, 'token': '),'},\n",
      " {'logit': 4.0625, 'token': ' qu'},\n",
      " {'logit': 0.3056640625, 'token': 'arks'},\n",
      " {'logit': 8.6171875, 'token': ' interact'},\n",
      " {'logit': 8.546875, 'token': ' via'},\n",
      " {'logit': 9.4609375, 'token': ' the'},\n",
      " {'logit': 7.46875, 'token': ' exchange'},\n",
      " {'logit': 9.5078125, 'token': ' of'},\n",
      " {'logit': 9.84375, 'token': ' glu'},\n",
      " {'logit': 4.30859375, 'token': 'ons'},\n",
      " {'logit': 4.78125, 'token': ','},\n",
      " {'logit': 7.3671875, 'token': ' which'},\n",
      " {'logit': 5.75390625, 'token': ' carry'},\n",
      " {'logit': 11.1171875, 'token': ' color'},\n",
      " {'logit': 11.0390625, 'token': ' charge'},\n",
      " {'logit': -3.64453125, 'token': '.'}]\n",
      "[{'logit': 2.234375, 'token': 'In'},\n",
      " {'logit': 9.2421875, 'token': ' Quantum'},\n",
      " {'logit': 9.3828125, 'token': ' Chrom'},\n",
      " {'logit': 6.046875, 'token': 'odynamics'},\n",
      " {'logit': 1.8828125, 'token': ' ('},\n",
      " {'logit': 10.5625, 'token': 'Q'},\n",
      " {'logit': 8.1015625, 'token': 'CD'},\n",
      " {'logit': 0.75634765625, 'token': '),'},\n",
      " {'logit': 4.0625, 'token': ' qu'},\n",
      " {'logit': 0.3056640625, 'token': 'arks'},\n",
      " {'logit': 8.6171875, 'token': ' interact'},\n",
      " {'logit': 8.546875, 'token': ' via'},\n",
      " {'logit': 9.4609375, 'token': ' the'},\n",
      " {'logit': 7.46875, 'token': ' exchange'},\n",
      " {'logit': 9.5078125, 'token': ' of'},\n",
      " {'logit': 9.84375, 'token': ' glu'},\n",
      " {'logit': 4.30859375, 'token': 'ons'},\n",
      " {'logit': 4.78125, 'token': ','},\n",
      " {'logit': 7.3671875, 'token': ' which'},\n",
      " {'logit': 5.75390625, 'token': ' carry'},\n",
      " {'logit': 8.2421875, 'token': ' mass'},\n",
      " {'logit': 8.1796875, 'token': ' charge'},\n",
      " {'logit': -3.1875, 'token': '.'}]\n"
     ]
    }
   ],
   "source": []
  },
  {
   "cell_type": "markdown",
   "id": "9065f7f4-343b-4147-9073-80a1797936bd",
   "metadata": {
    "tags": []
   },
   "source": [
    "# Gradio"
   ]
  },
  {
   "cell_type": "code",
   "execution_count": 7,
   "id": "92c99f7a-8706-4011-a2de-48e62f10c2a7",
   "metadata": {},
   "outputs": [
    {
     "ename": "ModuleNotFoundError",
     "evalue": "No module named 'gradio'",
     "output_type": "error",
     "traceback": [
      "\u001b[0;31m---------------------------------------------------------------------------\u001b[0m",
      "\u001b[0;31mModuleNotFoundError\u001b[0m                       Traceback (most recent call last)",
      "\u001b[0;32m/tmp/ipykernel_1259716/4117151547.py\u001b[0m in \u001b[0;36m<cell line: 2>\u001b[0;34m()\u001b[0m\n\u001b[1;32m      1\u001b[0m \u001b[0;32mimport\u001b[0m \u001b[0mtime\u001b[0m\u001b[0;34m\u001b[0m\u001b[0;34m\u001b[0m\u001b[0m\n\u001b[0;32m----> 2\u001b[0;31m \u001b[0;32mimport\u001b[0m \u001b[0mgradio\u001b[0m \u001b[0;32mas\u001b[0m \u001b[0mgr\u001b[0m\u001b[0;34m\u001b[0m\u001b[0;34m\u001b[0m\u001b[0m\n\u001b[0m\u001b[1;32m      3\u001b[0m \u001b[0mpattern\u001b[0m \u001b[0;34m=\u001b[0m \u001b[0;34mr\"(?<=<\\|end\\|><\\|assistant\\|>)\\s*(.*?)\\s*(?=<\\|end\\|><\\|endoftext\\|>)\"\u001b[0m\u001b[0;34m\u001b[0m\u001b[0;34m\u001b[0m\u001b[0m\n\u001b[1;32m      4\u001b[0m \u001b[0;34m\u001b[0m\u001b[0m\n\u001b[1;32m      5\u001b[0m \u001b[0;32mdef\u001b[0m \u001b[0mllm_call\u001b[0m\u001b[0;34m(\u001b[0m\u001b[0mmessage\u001b[0m\u001b[0;34m,\u001b[0m \u001b[0mhistory\u001b[0m\u001b[0;34m)\u001b[0m\u001b[0;34m:\u001b[0m\u001b[0;34m\u001b[0m\u001b[0;34m\u001b[0m\u001b[0m\n",
      "\u001b[0;31mModuleNotFoundError\u001b[0m: No module named 'gradio'"
     ]
    }
   ],
   "source": [
    "import time\n",
    "import gradio as gr\n",
    "pattern = r\"(?<=<\\|end\\|><\\|assistant\\|>)\\s*(.*?)\\s*(?=<\\|end\\|><\\|endoftext\\|>)\"\n",
    "\n",
    "def llm_call(message, history):\n",
    "    inputs = tokenizer(message, return_tensors = \"pt\")\n",
    "    output = model.generate(**inputs, max_new_tokens = 512, temperature = 0.7)\n",
    "    result = tokenizer.decode(output.tolist()[0],skip_special_tokens=False)\n",
    "    result = re.search(pattern, result)\n",
    "    extracted_text = ''\n",
    "    if not result is None:\n",
    "        extracted_text = result.group(1)\n",
    "    yield extracted_text \n",
    "\n",
    "\n",
    "demo = gr.ChatInterface(llm_call)\n",
    "\n",
    "if __name__ == \"__main__\":\n",
    "    demo.launch(share=True)\n"
   ]
  },
  {
   "cell_type": "markdown",
   "id": "4452a61a-9235-4d79-9aaa-877b1f9270cf",
   "metadata": {
    "tags": []
   },
   "source": [
    "# Statisics about training data"
   ]
  },
  {
   "cell_type": "code",
   "execution_count": null,
   "id": "d5804234",
   "metadata": {},
   "outputs": [],
   "source": [
    "with gzip.open(f'{data_folder}/arxiv_with_prompts.pickle.gzip','rb') as f:\n",
    "    data_mmd = pickle.load(f)"
   ]
  },
  {
   "cell_type": "code",
   "execution_count": null,
   "id": "d66c52df-e652-4bf7-adab-484352a13ea7",
   "metadata": {},
   "outputs": [],
   "source": [
    "num_tokens = {}\n",
    "\n",
    "for k in tqdm(data_mmd):\n",
    "    num_tokens[k] = len(tokenizer.encode(data_mmd[k]['raw']))"
   ]
  },
  {
   "cell_type": "code",
   "execution_count": null,
   "id": "0b58f70b-4203-4a91-8c30-d9b1803a54ed",
   "metadata": {},
   "outputs": [],
   "source": []
  },
  {
   "cell_type": "code",
   "execution_count": null,
   "id": "e7bf6760-1896-46c1-87db-62e73114fbb9",
   "metadata": {},
   "outputs": [],
   "source": []
  }
 ],
 "metadata": {
  "kernelspec": {
   "display_name": "Python 3",
   "language": "python",
   "name": "python3"
  },
  "language_info": {
   "codemirror_mode": {
    "name": "ipython",
    "version": 3
   },
   "file_extension": ".py",
   "mimetype": "text/x-python",
   "name": "python",
   "nbconvert_exporter": "python",
   "pygments_lexer": "ipython3",
   "version": "3.9.16"
  }
 },
 "nbformat": 4,
 "nbformat_minor": 5
}
